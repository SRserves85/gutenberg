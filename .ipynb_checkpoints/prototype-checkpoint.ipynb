{
 "cells": [
  {
   "cell_type": "code",
   "execution_count": 3,
   "metadata": {},
   "outputs": [],
   "source": [
    "import json\n",
    "import re\n",
    "from pyspark.sql.functions import regexp_extract, regexp_replace, col, lower"
   ]
  },
  {
   "cell_type": "code",
   "execution_count": 9,
   "metadata": {},
   "outputs": [],
   "source": [
    "path = 'test'"
   ]
  },
  {
   "cell_type": "code",
   "execution_count": 10,
   "metadata": {},
   "outputs": [],
   "source": [
    "\n",
    "rdd = sc.textFile(path)"
   ]
  },
  {
   "cell_type": "code",
   "execution_count": 11,
   "metadata": {},
   "outputs": [],
   "source": [
    "def parse(x):\n",
    "    data = json.loads(x)\n",
    "    key = list(data.keys())[0]\n",
    "    dic = data[key]\n",
    "    \n",
    "    if len(dic['author']) > 0:\n",
    "        dic['author'] = dic['author'][0]\n",
    "    else:\n",
    "        dic['author'] = None\n",
    "        \n",
    "    if len(dic['language']) > 0:\n",
    "        dic['language'] = dic['language'][0]\n",
    "    else:\n",
    "        dic['language'] = None\n",
    "        \n",
    "    if len(dic['subject']) > 0:\n",
    "        dic['subject'] = dic['subject'][0]\n",
    "    else:\n",
    "        dic['subject'] = None\n",
    "        \n",
    "    if len(dic['title']) > 0:\n",
    "        dic['title'] = dic['title'][0]\n",
    "    else:\n",
    "        dic['title'] = None\n",
    "    \n",
    "    print(str(dic['txt'][0]))\n",
    "    dic['release_date'] = re.match(r\"(?<=Release Date:).*(?=(\\[E))\", str(dic['txt'][0]))\n",
    "    if dic['release_date'] == None:\n",
    "        dic['release_date'] = str(dic['txt'][0])\n",
    "        \n",
    "    \n",
    "        \n",
    "    return dic"
   ]
  },
  {
   "cell_type": "code",
   "execution_count": 12,
   "metadata": {},
   "outputs": [],
   "source": [
    "rdd = rdd.map(parse)"
   ]
  },
  {
   "cell_type": "code",
   "execution_count": 13,
   "metadata": {},
   "outputs": [
    {
     "name": "stderr",
     "output_type": "stream",
     "text": [
      "/usr/local/Cellar/apache-spark/2.2.1/libexec/python/pyspark/sql/session.py:356: UserWarning: Using RDD of dict to inferSchema is deprecated. Use pyspark.sql.Row instead\n",
      "  warnings.warn(\"Using RDD of dict to inferSchema is deprecated. \"\n"
     ]
    }
   ],
   "source": [
    "df = rdd.toDF()"
   ]
  },
  {
   "cell_type": "code",
   "execution_count": null,
   "metadata": {},
   "outputs": [],
   "source": [
    "df = df.withColumn('release_date', regexp_extract(col('txt'), r\"(?<=Release Date:)(.*)(?=(\\[E))\", 1))\n",
    "df = df.withColumn('txt', regexp_replace(col('txt'), \"[\\n]\", \" \"))\n",
    "df = df.withColumn('txt', lower(col('txt')))\n",
    "df = df.withColumn('txt', regexp_extract(col('txt'), r\"(.*)(?=end of the project gutenberg)\", 1))\n",
    "pd = df[['Title', 'release_date', 'txt']].toPandas()"
   ]
  },
  {
   "cell_type": "code",
   "execution_count": 118,
   "metadata": {},
   "outputs": [
    {
     "data": {
      "text/plain": [
       "'the project gutenberg ebook of aesop\\'s fables, by aesop  this ebook is for the use of anyone anywhere at no cost and with almost no restrictions whatsoever.  you may copy it, give it away or re-use it under the terms of the project gutenberg license included with this ebook or online at www.gutenberg.org   title: aesop\\'s fables  author: aesop  translator: george fyler townsend  posting date: june 25, 2008 [ebook #21] release date: september 30, 1991  language: english  character set encoding: ascii  *** start of this project gutenberg ebook aesop\\'s fables ***           aesop\\'s fables  by aesop  translated by george fyler townsend     the wolf and the lamb  wolf, meeting with a lamb astray from the fold, resolved not to lay violent hands on him, but to find some plea to justify to the lamb the wolf\\'s right to eat him. he thus addressed him: \"sirrah, last year you grossly insulted me.\" \"indeed,\" bleated the lamb in a mournful tone of voice, \"i was not then born.\" then said the wolf, \"you feed in my pasture.\" \"no, good sir,\" replied the lamb, \"i have not yet tasted grass.\" again said the wolf, \"you drink of my well.\" \"no,\" exclaimed the lamb, \"i never yet drank water, for as yet my mother\\'s milk is both food and drink to me.\" upon which the wolf seized him and ate him up, saying, \"well! i won\\'t remain supperless, even though you refute every one of my imputations.\" the tyrant will always find a pretext for his tyranny.     the bat and the weasels  a bat who fell upon the ground and was caught by a weasel pleaded to be spared his life. the weasel refused, saying that he was by nature the enemy of all birds. the bat assured him that he was not a bird, but a mouse, and thus was set free. shortly afterwards the bat again fell to the ground and was caught by another weasel, whom he likewise entreated not to eat him. the weasel said that he had a special hostility to mice. the bat assured him that he was not a mouse, but a bat, and thus a second time escaped.  it is wise to '"
      ]
     },
     "execution_count": 118,
     "metadata": {},
     "output_type": "execute_result"
    }
   ],
   "source": []
  },
  {
   "cell_type": "code",
   "execution_count": null,
   "metadata": {},
   "outputs": [],
   "source": []
  },
  {
   "cell_type": "code",
   "execution_count": null,
   "metadata": {},
   "outputs": [],
   "source": []
  },
  {
   "cell_type": "code",
   "execution_count": null,
   "metadata": {},
   "outputs": [],
   "source": []
  },
  {
   "cell_type": "code",
   "execution_count": null,
   "metadata": {},
   "outputs": [],
   "source": []
  },
  {
   "cell_type": "code",
   "execution_count": null,
   "metadata": {},
   "outputs": [],
   "source": []
  },
  {
   "cell_type": "code",
   "execution_count": null,
   "metadata": {},
   "outputs": [],
   "source": []
  },
  {
   "cell_type": "code",
   "execution_count": null,
   "metadata": {},
   "outputs": [],
   "source": []
  },
  {
   "cell_type": "code",
   "execution_count": null,
   "metadata": {},
   "outputs": [],
   "source": []
  },
  {
   "cell_type": "code",
   "execution_count": null,
   "metadata": {},
   "outputs": [],
   "source": []
  }
 ],
 "metadata": {
  "kernelspec": {
   "display_name": "Python 3",
   "language": "python",
   "name": "python3"
  },
  "language_info": {
   "codemirror_mode": {
    "name": "ipython",
    "version": 3
   },
   "file_extension": ".py",
   "mimetype": "text/x-python",
   "name": "python",
   "nbconvert_exporter": "python",
   "pygments_lexer": "ipython3",
   "version": "3.6.4"
  }
 },
 "nbformat": 4,
 "nbformat_minor": 2
}
